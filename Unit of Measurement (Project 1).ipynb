{
 "cells": [
  {
   "cell_type": "markdown",
   "id": "8e1d14a8",
   "metadata": {},
   "source": [
    "# Unit of Measurement Converter\n",
    "\n",
    "This is project 1 out of 5 in the Analyst Builder's Python Programming for Beginners Series. I will add my own changes and modifications compared to the one shown in the course."
   ]
  },
  {
   "cell_type": "code",
   "execution_count": null,
   "id": "bd80dbdd",
   "metadata": {},
   "outputs": [
    {
     "name": "stdout",
     "output_type": "stream",
     "text": [
      "\u001b[1m===Converting Gasoline Prices for When You Cross the Border!===\u001b[0m\n",
      "This can convert USD per Gallon to CAD per Liter and vice versa.\n",
      "Assumes 1 USD = 1.34 CAD as per Dec 18 2023\n"
     ]
    }
   ],
   "source": [
    "print('\\033[1m' + \"===Converting Gasoline Prices for When You Cross the Border!===\" + '\\033[0m')\n",
    "print(\"This can convert USD per Gallon to CAD per Liter and vice versa.\")\n",
    "print(\"Assumes 1 USD = 1.34 CAD as per Dec 18 2023\")\n",
    "\n",
    "convert_from = input(\"Would you like to convert from USD or CAD?: \")\n",
    "\n",
    "# This statement makes sure that the user doesn't input a non-numeric value\n",
    "while True:\n",
    "    dollar_amount_input = input(\"Enter the amount you would like to be converted: \")\n",
    "    try:\n",
    "        dollar_amount = float(dollar_amount_input)\n",
    "        break \n",
    "    except ValueError:\n",
    "        print(\"Invalid input! Please enter a valid numeric value.\")\n",
    "\n",
    "if convert_from.lower() in [\"us\", \"usd\", \"us dollar\", \"american\"]:\n",
    "    print(dollar_amount, \"USD per Gallon is approximately\", round((dollar_amount * 1.34) / 3.78541, 2), \"CAD per Liter\")\n",
    "elif convert_from.lower() in [\"ca\", \"cad\", \"ca dollar\", \"canadian dollar\", \"canadian\"]:\n",
    "    print(dollar_amount, \"CAD per Liter is approximately\", round((dollar_amount / 1.34) * 3.78541, 2), \"USD per Gallon\")\n",
    "else:\n",
    "    print(\"This can only convert between USD and CAD and not other currencies! Please try again.\")\n"
   ]
  },
  {
   "cell_type": "markdown",
   "id": "4db1477c",
   "metadata": {},
   "source": [
    "### Project Overview and Lessons Learnt \n",
    "\n",
    "While this was relatively simple to create, it did teach me a lot about how to work with bugs in my code and how to fix the errors. \n",
    "\n",
    "I also learnt that the user may not input the currency in my desirded format so I accounted for that as well. \n",
    "\n",
    "I learnt how to use a WHILE LOOP for this project which shows the user that they have entered something other than an integer or float value for the dollar_amount. \n",
    "\n",
    "I would like to make this more user friendly and more interactive in the future if I come back to a project like this."
   ]
  },
  {
   "cell_type": "code",
   "execution_count": null,
   "id": "76ba0cff",
   "metadata": {},
   "outputs": [],
   "source": []
  }
 ],
 "metadata": {
  "kernelspec": {
   "display_name": "Python 3 (ipykernel)",
   "language": "python",
   "name": "python3"
  },
  "language_info": {
   "codemirror_mode": {
    "name": "ipython",
    "version": 3
   },
   "file_extension": ".py",
   "mimetype": "text/x-python",
   "name": "python",
   "nbconvert_exporter": "python",
   "pygments_lexer": "ipython3",
   "version": "3.11.5"
  }
 },
 "nbformat": 4,
 "nbformat_minor": 5
}
