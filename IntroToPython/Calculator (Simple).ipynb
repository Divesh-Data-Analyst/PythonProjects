{
 "cells": [
  {
   "cell_type": "markdown",
   "id": "8d35e2fe",
   "metadata": {},
   "source": [
    "# Calculator (Simple)\n",
    "This is project 2 out of 5 in the Analyst Builder's Python Programming for Beginners Series. I will add my own changes and modifications compared to the one shown in the course."
   ]
  },
  {
   "cell_type": "code",
   "execution_count": null,
   "id": "1b0c20ea",
   "metadata": {
    "scrolled": true
   },
   "outputs": [
    {
     "name": "stdout",
     "output_type": "stream",
     "text": [
      "\u001b[1m===Welcome to my Simple Calculator!===\u001b[0m\n",
      "Choose A for Addition\n",
      "Choose S for Subtraction\n",
      "Choose M for Multiplication\n",
      "Choose D for Division\n",
      "Choose P for To the Power of Equations\n",
      "Choose R for Getting the Remainder of Two Numbers Against Eachother\n"
     ]
    }
   ],
   "source": [
    "def add(x,y):\n",
    "    return x + y\n",
    "def sub(x,y):\n",
    "    return x - y\n",
    "def mul(x,y):\n",
    "    return x * y\n",
    "def div(x,y):\n",
    "    if y == 0:\n",
    "        return \"Error: Cannot divide by zero\"\n",
    "    return x / y\n",
    "def pwr(x,y):\n",
    "    return x ** y\n",
    "def rmndr(x,y):\n",
    "    if y == 0:\n",
    "        return \"Error: Cannot calculate remainder with zero divisor\"\n",
    "    return x % y\n",
    "\n",
    "\n",
    "print('\\033[1m' + \"===Welcome to my Simple Calculator!===\" + '\\033[0m')\n",
    "print(\"Choose A for Addition\")\n",
    "print(\"Choose S for Subtraction\")\n",
    "print(\"Choose M for Multiplication\")\n",
    "print(\"Choose D for Division\")\n",
    "print(\"Choose P for To the Power of Equations\")\n",
    "print(\"Choose R for Getting the Remainder of Two Numbers Against Eachother\")\n",
    "\n",
    "while True:\n",
    "    user_choice = input(\"Please choose A, S, M, D, P or R: \")\n",
    "    \n",
    "    if user_choice.upper() in (\"A\", \"ADD\", \"ADDITION\", \"S\", \"SUB\",\"SUBTRACT\", \"SUBTRACTION\", \"M\", \"MULTIPLY\", \"MULTIPLICATION\", \"D\", \"DIVIDE\", \"DIVISION\",\"DIV\",\"P\", \"POWERED\", \"POWER\", \"TO THE POWER OF\", \"R\", \"REMAINDER\", \"REM\"):\n",
    "        try:\n",
    "            num_1 = float(input(\"First Number: \"))\n",
    "            num_2 = float(input(\"Second Number: \"))\n",
    "        except ValueError:\n",
    "            print(\"Invalid input. Please enter numeric values.\")\n",
    "            continue\n",
    "        \n",
    "        \n",
    "        if user_choice.upper() in (\"A\", \"ADD\", \"ADDITION\"):\n",
    "            print(num_1, \"+\", num_2, \"=\", add(num_1, num_2))\n",
    "            \n",
    "        elif user_choice.upper() in (\"S\", \"SUB\",\"SUBTRACT\", \"SUBTRACTION\"):\n",
    "            print(num_1, \"-\", num_2, \"=\", sub(num_1, num_2))\n",
    "            \n",
    "        elif user_choice.upper() in (\"M\", \"MULTIPLY\", \"MULTIPLICATION\"):\n",
    "            print(num_1, \"x\", num_2, \"=\", mul(num_1, num_2))\n",
    "            \n",
    "        elif user_choice.upper() in (\"D\", \"DIVIDE\", \"DIVISION\",\"DIV\"):\n",
    "            print(num_1, \"/\", num_2, \"=\", div(num_1, num_2))\n",
    "            \n",
    "        elif user_choice.upper() in (\"P\", \"POWERED\", \"POWER\", \"TO THE POWER OF\"):\n",
    "            print(num_1, \"to the power of\", num_2, \"=\", pwr(num_1, num_2))\n",
    "            \n",
    "        elif user_choice.upper() in (\"R\", \"REMAINDER\", \"REM\"):\n",
    "            print(\"The remainder of\", num_1, \"/\", num_2, \"=\", rmndr(num_1, num_2))\n",
    "    \n",
    "    else: \n",
    "        print(\"Please try again by selecting a valid arithmetic function.\")\n",
    "    \n",
    "    next_calculation = input(\"Would you like to do another calculation? (Y/N): \")\n",
    "    if next_calculation.upper() in (\"N\", \"NO\", \"NOPE\"):\n",
    "        break"
   ]
  },
  {
   "cell_type": "markdown",
   "id": "98f7b4e5",
   "metadata": {},
   "source": [
    "### Project Overview and Lessons Learnt \n",
    "\n",
    "This was quite easy to follow and make and I also did add my own tweaks and additions based on my preferences on what should be displayed to the user.  \n",
    "\n",
    "I liked this project also because of the versatility of functions and the unlimited number of things that we can do with them. This simple calculator has allowed me to better understand how functions can also be used in complicated cases. \n",
    "\n",
    "In the future I would give the user to add,subtract,etc multiple numbers rather than just two and also make it more visually appealing. "
   ]
  }
 ],
 "metadata": {
  "kernelspec": {
   "display_name": "Python 3 (ipykernel)",
   "language": "python",
   "name": "python3"
  },
  "language_info": {
   "codemirror_mode": {
    "name": "ipython",
    "version": 3
   },
   "file_extension": ".py",
   "mimetype": "text/x-python",
   "name": "python",
   "nbconvert_exporter": "python",
   "pygments_lexer": "ipython3",
   "version": "3.11.5"
  }
 },
 "nbformat": 4,
 "nbformat_minor": 5
}
