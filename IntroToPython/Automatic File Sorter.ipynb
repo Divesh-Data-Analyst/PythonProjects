{
 "cells": [
  {
   "cell_type": "markdown",
   "id": "f448b804",
   "metadata": {},
   "source": [
    "# Automatic File Sorter\n",
    "\n",
    "This is project 3 out of 5 in the Analyst Builder's Python Programming for Beginners Series. I will add my own changes and modifications compared to the one shown in the course."
   ]
  },
  {
   "cell_type": "code",
   "execution_count": 1,
   "id": "6c0ec908",
   "metadata": {},
   "outputs": [],
   "source": [
    "import os\n",
    "import shutil"
   ]
  },
  {
   "cell_type": "code",
   "execution_count": 8,
   "id": "51439741",
   "metadata": {},
   "outputs": [],
   "source": [
    "## Note: I am using a Macintosh Operating System, hence the different path name.\n",
    "## Replace the following path with the directory path where your files are located.\n",
    "\n",
    "path = r\"/Users/yourname/Desktop/Python\"\n",
    "\n",
    "\n",
    "## This defines the folder names, feel free to add or make changes.\n",
    "folder_names = [\"CSV Files\", \"Text Files\", \"Image Files\", \"Excel Workbooks\", \"PDF Files\"]\n",
    "\n",
    "## This is to create folders that don't already exist in our location.\n",
    "for folder in folder_names:\n",
    "    if not os.path.exists(os.path.join(path, folder)):\n",
    "        os.makedirs(os.path.join(path, folder))\n",
    "\n",
    "file_names = os.listdir(path)\n",
    "\n",
    "\n",
    "## Organizes files based on our parameters, assigns them to an allocated folder. Feel free to make changes\n",
    "## or additions for file types with different extensions. \n",
    "for file in file_names:\n",
    "    if \".csv\" in file and not os.path.exists(os.path.join(path, \"CSV Files\", file)):\n",
    "        shutil.move(os.path.join(path, file), os.path.join(path, \"CSV Files\", file))\n",
    "    elif \".txt\" in file and not os.path.exists(os.path.join(path, \"Text Files\", file)):\n",
    "        shutil.move(os.path.join(path, file), os.path.join(path, \"Text Files\", file))\n",
    "    elif (\".png\" in file or \".jpg\" in file) and not os.path.exists(os.path.join(path, \"Image Files\", file)):\n",
    "        shutil.move(os.path.join(path, file), os.path.join(path, \"Image Files\", file))\n",
    "    elif \".xlsx\" in file and not os.path.exists(os.path.join(path, \"Excel Workbooks\", file)):\n",
    "        shutil.move(os.path.join(path, file), os.path.join(path, \"Excel Workbooks\", file))\n",
    "    elif \".pdf\" in file and not os.path.exists(os.path.join(path, \"PDF Files\", file)):\n",
    "        shutil.move(os.path.join(path, file), os.path.join(path, \"PDF Files\", file))"
   ]
  },
  {
   "cell_type": "markdown",
   "id": "58a8fd10",
   "metadata": {},
   "source": [
    "### Project Overview and Lessons Learnt \n",
    "\n",
    "This was one of the most interest projects as I learnt how we can use various libraries and the various functionality that allows us be more creative with what we want to do. \n",
    "\n",
    "I also enjoyed this as I was able to clear a folder with various files, making it more neat and organized for me to easily access my files.\n",
    "\n",
    "I did find this task took longer than my previous projects as I was trying to understand what each line of code does - allowing me to understand why we need each library and its functions. Also I was using a different operating system as compared to my instructor so this did make it hard to understand but was an easy fix at the end. \n",
    "\n",
    "In the future, I would make a dictionary of various file types and make the user select what sorts of files they have. I would allow for them to input the name of the extensions - allowing for the folders to be automatically created in the background based on the file extensions they would like sorted. "
   ]
  }
 ],
 "metadata": {
  "kernelspec": {
   "display_name": "Python 3 (ipykernel)",
   "language": "python",
   "name": "python3"
  },
  "language_info": {
   "codemirror_mode": {
    "name": "ipython",
    "version": 3
   },
   "file_extension": ".py",
   "mimetype": "text/x-python",
   "name": "python",
   "nbconvert_exporter": "python",
   "pygments_lexer": "ipython3",
   "version": "3.11.5"
  }
 },
 "nbformat": 4,
 "nbformat_minor": 5
}
